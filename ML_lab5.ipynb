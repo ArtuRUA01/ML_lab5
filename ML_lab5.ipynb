{
  "nbformat": 4,
  "nbformat_minor": 0,
  "metadata": {
    "colab": {
      "name": "ML_lab5.ipynb",
      "provenance": [],
      "collapsed_sections": [],
      "authorship_tag": "ABX9TyOxguoIQh5xdKsf+jERXTcs",
      "include_colab_link": true
    },
    "kernelspec": {
      "display_name": "Python 3",
      "name": "python3"
    }
  },
  "cells": [
    {
      "cell_type": "markdown",
      "metadata": {
        "id": "view-in-github",
        "colab_type": "text"
      },
      "source": [
        "<a href=\"https://colab.research.google.com/github/ArtuRUA01/ML_lab5/blob/main/ML_lab5.ipynb\" target=\"_parent\"><img src=\"https://colab.research.google.com/assets/colab-badge.svg\" alt=\"Open In Colab\"/></a>"
      ]
    },
    {
      "cell_type": "code",
      "metadata": {
        "id": "JLwCuPTVGRnw"
      },
      "source": [
        "%load_ext tensorboard\n",
        "\n",
        "import tensorflow as tf\n",
        "import numpy as np\n",
        "import pandas as pd\n",
        "import matplotlib.pyplot as plt\n",
        "import datetime\n",
        "\n",
        "\n",
        "import tensorboard\n",
        "tensorboard.__version__\n"
      ],
      "execution_count": null,
      "outputs": []
    },
    {
      "cell_type": "code",
      "metadata": {
        "id": "HEyse7omA9TR"
      },
      "source": [
        "!rm -rf ./logs/"
      ],
      "execution_count": null,
      "outputs": []
    },
    {
      "cell_type": "code",
      "metadata": {
        "id": "zssCwNr0HEv0"
      },
      "source": [
        "mnist = tf.keras.datasets.mnist\n",
        "(x_train, y_train), (x_test, y_test) = mnist.load_data()\n",
        "\n",
        "x_train = tf.keras.utils.normalize(x_train, axis = 1)\n",
        "x_test = tf.keras.utils.normalize(x_test, axis = 1)"
      ],
      "execution_count": null,
      "outputs": []
    },
    {
      "cell_type": "code",
      "metadata": {
        "id": "wiOMvZvFIbwr"
      },
      "source": [
        "for i in range(3):\n",
        "    plt.imshow(x_train[i], cmap = plt.cm.binary)\n",
        "    plt.title(y_train[i])\n",
        "    plt.show()"
      ],
      "execution_count": null,
      "outputs": []
    },
    {
      "cell_type": "code",
      "metadata": {
        "id": "NPCLgM8mIbsd"
      },
      "source": [
        "x_train = tf.keras.utils.normalize(x_train, axis = 1)\n",
        "x_test = tf.keras.utils.normalize(x_test, axis = 1)"
      ],
      "execution_count": null,
      "outputs": []
    },
    {
      "cell_type": "code",
      "metadata": {
        "id": "g2ch0TsyIbo4"
      },
      "source": [
        "for i in range(3):\n",
        "    plt.imshow(x_train[i], cmap = plt.cm.binary)\n",
        "    plt.title(y_train[i])\n",
        "    plt.show()"
      ],
      "execution_count": null,
      "outputs": []
    },
    {
      "cell_type": "code",
      "metadata": {
        "id": "RFwiy7FMOSZ8"
      },
      "source": [
        "model = tf.keras.models.Sequential()\n",
        "#Стек слоев \n",
        "model.add(tf.keras.layers.Flatten(input_shape=(28, 28)))\n",
        "#Первый слой этой сети - tf.keras.layers.Flatten, преобразует формат изображения \n",
        "#из двумерного массива (28 на 28 пикселей) в одномерный (размерностью 28 * 28 = 784 пикселя).\n",
        "#Слой извлекает строки пикселей из изображения и выстраивает их в один ряд.\n",
        "#Этот слой не имеет параметров для обучения; он только переформатирует данные.\n",
        "model.add(tf.keras.layers.Dense(128, activation='relu'))\n",
        "#tf.keras.layers.Dense. Это полносвязные нейронные слои.\n",
        "#128 шарів, функція активації RELU\n",
        "model.add(tf.keras.layers.Dropout(0.2))\n",
        "#(training = 1, testing = 0)\n",
        "model.add(tf.keras.layers.Dense(128, activation='relu'))\n",
        "#tf.keras.layers.Dense. Это полносвязные нейронные слои.\n",
        "#128 шарів, функція активації RELU\n",
        "model.add(tf.keras.layers.Dense(10, activation='softmax'))\n",
        "#10-узловой softmax слой возвращает массив из 10 вероятностных оценок дающих в сумме 1.\n",
        "#Каждый узел содержит оценку указывающую вероятность принадлежности изображения к одному из 10 классов. \n",
        "\n",
        "\n",
        "model.compile(optimizer = 'adam', loss = 'sparse_categorical_crossentropy', metrics = ['accuracy'])\n",
        "# метод model.compile создает модель и принимает параметр 'metrics',\n",
        "# чтобы определить, какие метрики используются для оценки во время обучения и тестирования.\n",
        "\n",
        "# Функция потерь (Loss function) — измеряет точность модели во время обучения. \n",
        "# Мы хотим минимизировать эту функцию чтоб \"направить\" модель в верном направлении.\n",
        "#----\n",
        "# Оптимизатор (Optimizer) — показывает каким образом обновляется модель на основе входных данных и функции потерь.\n",
        "#----\n",
        "# Метрики (Metrics) — используются для мониторинга тренировки и тестирования модели.\n",
        "# Наш пример использует метрику accuracy равную доле правильно классифицированных изображений.\n",
        "\n",
        "\n",
        "log_dir = \"logs/fit/\" + datetime.datetime.now().strftime(\"%Y%m%d-%H%M%S\")\n",
        "tensorboard_callback = tf.keras.callbacks.TensorBoard(log_dir=log_dir, histogram_freq=1)\n"
      ],
      "execution_count": null,
      "outputs": []
    },
    {
      "cell_type": "code",
      "metadata": {
        "id": "NB29e64rEHQB"
      },
      "source": [
        "history = model.fit(x_train, y_train, epochs=3, callbacks=[tensorboard_callback])"
      ],
      "execution_count": null,
      "outputs": []
    },
    {
      "cell_type": "code",
      "metadata": {
        "id": "PMT7qzJviF2t"
      },
      "source": [
        "model.summary()"
      ],
      "execution_count": null,
      "outputs": []
    },
    {
      "cell_type": "code",
      "metadata": {
        "id": "56WpuzeTak-4"
      },
      "source": [
        "val_loss, val_acc = model.evaluate(x_test, y_test)\n",
        "print(val_loss, val_acc)"
      ],
      "execution_count": null,
      "outputs": []
    },
    {
      "cell_type": "code",
      "metadata": {
        "id": "8JUgcVyBJQpj"
      },
      "source": [
        ""
      ],
      "execution_count": null,
      "outputs": []
    },
    {
      "cell_type": "code",
      "metadata": {
        "id": "WdnQBaI4JQlG"
      },
      "source": [
        ""
      ],
      "execution_count": null,
      "outputs": []
    },
    {
      "cell_type": "code",
      "metadata": {
        "id": "P6E8lyGosc6e"
      },
      "source": [
        "plt.plot(history.history['accuracy'])\n",
        "plt.title('model accuracy')\n",
        "plt.xlabel('epoch')\n",
        "plt.ylabel('accuracy')\n",
        "plt.legend(['train'])\n",
        "plt.show()"
      ],
      "execution_count": null,
      "outputs": []
    },
    {
      "cell_type": "code",
      "metadata": {
        "id": "7pgGa3pY1_5y"
      },
      "source": [
        "plt.plot(history.history['loss'])\n",
        "plt.title('model loss')\n",
        "plt.xlabel('epoch')\n",
        "plt.ylabel('loss')\n",
        "plt.legend(['train'])\n",
        "plt.show()"
      ],
      "execution_count": null,
      "outputs": []
    },
    {
      "cell_type": "code",
      "metadata": {
        "id": "aQdbIEcxa14j"
      },
      "source": [
        "# tf.keras.utils.plot_model(model)"
      ],
      "execution_count": null,
      "outputs": []
    },
    {
      "cell_type": "code",
      "metadata": {
        "id": "KvYyZjanJCLE"
      },
      "source": [
        "from tensorboard import notebook\n",
        "notebook.list() # View open TensorBoard instances"
      ],
      "execution_count": null,
      "outputs": []
    },
    {
      "cell_type": "code",
      "metadata": {
        "id": "DqPluWsYpsUu"
      },
      "source": [
        "# Control TensorBoard display. If no port is provided, \n",
        "# the most recently launched TensorBoard is used\n",
        "notebook.display(port=6006, height=1000) "
      ],
      "execution_count": null,
      "outputs": []
    },
    {
      "cell_type": "code",
      "metadata": {
        "id": "iwl5ycZKpvNB"
      },
      "source": [
        ""
      ],
      "execution_count": null,
      "outputs": []
    }
  ]
}